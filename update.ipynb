{
 "cells": [
  {
   "cell_type": "markdown",
   "metadata": {},
   "source": [
    "Grab most recent data"
   ]
  },
  {
   "cell_type": "code",
   "execution_count": 11,
   "metadata": {},
   "outputs": [],
   "source": [
    "import requests\n",
    "import pandas as pd \n",
    "import xml.etree.ElementTree as ET\n",
    "import unidecode\n",
    "import numpy as np\n",
    "import sqlalchemy\n",
    "import logging\n",
    "DB_USER = 'pg2682' \n",
    "DB_PASSWORD = '7440' \n",
    "\n",
    "DB_SERVER = 'w411.cisxo9blonu.us-east-1.rds.amazonaws.com' \n",
    "\n",
    "url = \"http://ergast.com/api/f1/current/last/results\" \n",
    "\n",
    "\n",
    "\n",
    "payload={}\n",
    "headers = {}\n",
    "response = requests.request(\"GET\", url, headers=headers, data=payload, stream=True)\n",
    "response.raw.decode_content = True\n",
    "\n",
    "\n",
    "p={}\n",
    "for event, elem in ET.iterparse(response.raw):\n",
    "    p.setdefault(elem.tag.split('}')[1], []).append(elem.text)\n",
    "\n",
    "driver_data, race_data = {}, {}\n",
    "for col, val in p.items():\n",
    "    if len(val)==20:\n",
    "        driver_data[col]=val\n",
    "    elif len(val)==1:\n",
    "        race_data[col]=val[0]\n",
    "df = pd.DataFrame.from_dict(driver_data)\n",
    "df['name'] = df.apply(lambda row: unidecode.unidecode(f\"{row['GivenName']} {row['FamilyName']}\"), axis=1)\n",
    "df['place'] = np.arange(1, len(df) + 1)\n",
    "points_dict = {1: 25, 2: 18, 3: 15, 4: 12, 5: 10, 6: 8, 7: 6, 8: 4, 9: 2, 10: 1}\n",
    "df['points'] = df['place'].apply(lambda pl: points_dict.get(pl, 0))\n",
    "df = df[['place','name', 'points']]\n",
    "    \n",
    "DB_USER = 'pg2682'  #os.getenv('user')\n",
    "DB_PASSWORD = '7440'  #os.getenv('password')\n",
    "\n",
    "DB_SERVER = \"w4111.cisxo09blonu.us-east-1.rds.amazonaws.com\"\n",
    "\n",
    "# This line creates a database engine that knows how to connect to the URI above\n",
    "engine = sqlalchemy.create_engine(f\"postgresql://{DB_USER}:{DB_PASSWORD}@{DB_SERVER}/proj1part2\")\n",
    "c = engine.connect()\n",
    "df.to_sql('temp_positions', con=c, if_exists='replace')\n",
    "\n",
    "raceId = next(c.execute(\"\"\"UPDATE RACES\n",
    "                           SET stop=%s\n",
    "                           WHERE raceName=%s\n",
    "                           AND season=%s\n",
    "                           RETURNING raceId\"\"\", (race_data['Date'], race_data['RaceName'], race_data['Date'].split('-')[0])))[0]\n"
   ]
  },
  {
   "cell_type": "markdown",
   "metadata": {},
   "source": []
  },
  {
   "cell_type": "markdown",
   "metadata": {},
   "source": [
    "Add most recent data to competes"
   ]
  },
  {
   "cell_type": "code",
   "execution_count": 10,
   "metadata": {},
   "outputs": [],
   "source": [
    "logging.log(logging.INFO, f\"Addding latest race{race_data['RaceName']} {race_data['Date'].split('-')[0]} data to table\")\n",
    "try:\n",
    "    c.execute(\"\"\"\n",
    "          INSERT INTO Competes_Record\n",
    "          (driverID, raceID, position, points)\n",
    "          SELECT Driver.driverID, %s, temp_positions.place, temp_positions.points\n",
    "          FROM temp_positions\n",
    "          INNER JOIN Driver\n",
    "            ON Driver.name=temp_positions.name\n",
    "          \"\"\", (raceId,))\n",
    "except sqlalchemy.exc.IntegrityError:\n",
    "    logging.log(logging.INFO, \"Repeated keys, double check new race is updated\")\n",
    "except Exception as e:\n",
    "    logging.log(logging.WARN, f\"Internal DB Error: {e}\")\n"
   ]
  },
  {
   "cell_type": "markdown",
   "metadata": {},
   "source": [
    "Grab all updated driver bets cases"
   ]
  },
  {
   "cell_type": "code",
   "execution_count": 24,
   "metadata": {},
   "outputs": [
    {
     "name": "stdout",
     "output_type": "stream",
     "text": [
      "   betid  iswon\n",
      "0     88   True\n",
      "1     87   True\n",
      "2     84   True\n",
      "3     83   True\n",
      "4     82  False\n",
      "5     44  False\n"
     ]
    }
   ],
   "source": [
    "logging.log(logging.INFO, f\"Addding latest race{race_data['RaceName']} {race_data['Date'].split('-')[0]} data to table\")\n",
    "df1=None\n",
    "try: # CLOSE EXISTING BETS\n",
    "    df1 = pd.read_sql(f\"\"\"\n",
    "          SELECT Bet.betId, (CASE WHEN isOver THEN temp_positions.place<=Bet.place ELSE temp_positions.place>=Bet.place END) As isWon \n",
    "          FROM temp_positions\n",
    "          INNER JOIN Driver\n",
    "            ON Driver.name=temp_positions.name\n",
    "          INNER JOIN Informs\n",
    "            ON Informs.driverId=Driver.driverId\n",
    "            AND Informs.raceId={raceId}\n",
    "          INNER JOIN Bet\n",
    "            ON Informs.BetId=Bet.BetId\n",
    "          WHERE Bet.teamName IS NULL\n",
    "          \"\"\", c)\n",
    "except sqlalchemy.exc.IntegrityError:\n",
    "    logging.log(logging.INFO, \"Repeated keys, double check new race is updated\")\n",
    "except Exception as e:\n",
    "    logging.log(logging.WARN, f\"Internal DB Error: {e}\")\n",
    "print(df1)\n"
   ]
  },
  {
   "cell_type": "markdown",
   "metadata": {},
   "source": [
    "grab all team bets cases"
   ]
  },
  {
   "cell_type": "code",
   "execution_count": 20,
   "metadata": {},
   "outputs": [],
   "source": [
    "logging.log(logging.INFO, f\"Addding latest race{race_data['RaceName']} {race_data['Date'].split('-')[0]} data to table\")\n",
    "df2=None\n",
    "try: # CLOSE EXISTING BETS\n",
    "    df2 = pd.read_sql(\"\"\"\n",
    "            SELECT Bet.betId As betId, (CASE WHEN isOver THEN T.rank<=Bet.place ELSE T.rank>=Bet.place END) As isWon \n",
    "            FROM (SELECT DrivesFor.teamName AS teamName, ROW_NUMBER() OVER(ORDER BY SUM(temp_positions.points) DESC) AS rank\n",
    "                 FROM temp_positions\n",
    "                 INNER JOIN Driver\n",
    "                     ON Driver.name=temp_positions.name\n",
    "                 INNER JOIN DrivesFor\n",
    "                     ON Driver.driverId=DrivesFor.driverId\n",
    "                 GROUP BY DrivesFor.teamName) T\n",
    "            INNER JOIN Informs\n",
    "                ON T.teamName=Informs.teamName\n",
    "            INNER JOIN Bet\n",
    "                ON Informs.BetId=Bet.BetId\n",
    "            WHERE Bet.driverId IS NULL\n",
    "          \"\"\", c)\n",
    "except sqlalchemy.exc.IntegrityError:\n",
    "    logging.log(logging.INFO, \"Repeated keys, double check new race is updated\")\n",
    "except Exception as e:\n",
    "    logging.log(logging.WARN, f\"Internal DB Error: {e}\")\n"
   ]
  },
  {
   "cell_type": "markdown",
   "metadata": {},
   "source": [
    "update all cases and close all open bets in informs"
   ]
  },
  {
   "cell_type": "code",
   "execution_count": 25,
   "metadata": {},
   "outputs": [
    {
     "data": {
      "text/plain": [
       "<sqlalchemy.engine.cursor.LegacyCursorResult at 0x164d5d2a0>"
      ]
     },
     "execution_count": 25,
     "metadata": {},
     "output_type": "execute_result"
    }
   ],
   "source": [
    "# UPDATE\n",
    "df3=pd.concat([df1, df2])\n",
    "df3.to_sql('temp_results', con=c, if_exists='replace')\n",
    "\n",
    "c.execute(\"\"\"\n",
    "          UPDATE Bet\n",
    "          SET isWon = temp_results.isWon,\n",
    "              completed=True\n",
    "          FROM \n",
    "            temp_results\n",
    "          WHERE\n",
    "            Bet.betId=temp_results.betId\n",
    "          \"\"\")"
   ]
  },
  {
   "cell_type": "markdown",
   "metadata": {},
   "source": [
    "Close all bets that might've been missed"
   ]
  },
  {
   "cell_type": "code",
   "execution_count": 22,
   "metadata": {},
   "outputs": [
    {
     "data": {
      "text/plain": [
       "<sqlalchemy.engine.cursor.LegacyCursorResult at 0x163b000a0>"
      ]
     },
     "execution_count": 22,
     "metadata": {},
     "output_type": "execute_result"
    }
   ],
   "source": [
    "c.execute(f\"\"\"\n",
    "          UPDATE Bet\n",
    "          SET completed=True\n",
    "          WHERE Bet.raceId={raceId}\n",
    "          \"\"\")\n"
   ]
  },
  {
   "cell_type": "code",
   "execution_count": null,
   "metadata": {},
   "outputs": [],
   "source": []
  }
 ],
 "metadata": {
  "interpreter": {
   "hash": "f5cb6dd328252e901618a172fb2a5f0229aa77fb00959d67938e8ad10853efa2"
  },
  "kernelspec": {
   "display_name": "Python 3.10.4 ('F1Proj')",
   "language": "python",
   "name": "python3"
  },
  "language_info": {
   "codemirror_mode": {
    "name": "ipython",
    "version": 3
   },
   "file_extension": ".py",
   "mimetype": "text/x-python",
   "name": "python",
   "nbconvert_exporter": "python",
   "pygments_lexer": "ipython3",
   "version": "3.10.4"
  },
  "orig_nbformat": 4
 },
 "nbformat": 4,
 "nbformat_minor": 2
}
