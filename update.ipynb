{
 "cells": [
  {
   "cell_type": "markdown",
   "metadata": {},
   "source": [
    "Grab most recent data"
   ]
  },
  {
   "cell_type": "markdown",
   "metadata": {},
   "source": []
  },
  {
   "cell_type": "markdown",
   "metadata": {},
   "source": [
    "Add most recent data to competes"
   ]
  },
  {
   "cell_type": "code",
   "execution_count": 10,
   "metadata": {},
   "outputs": [],
   "source": [
    "logging.info(f\"Addding latest race{race_data['RaceName']} {race_data['Date'].split('-')[0]} data to table\")\n",
    "try:\n",
    "    c.execute(\"\"\"\n",
    "          INSERT INTO Competes_Record\n",
    "          (driverID, raceID, position, points)\n",
    "          SELECT Driver.driverID, %s, temp_positions.place, temp_positions.points\n",
    "          FROM temp_positions\n",
    "          INNER JOIN Driver\n",
    "            ON Driver.name=temp_positions.name\n",
    "          \"\"\", (raceId,))\n",
    "except sqlalchemy.exc.IntegrityError:\n",
    "    logging.log(logging.INFO, \"Repeated keys, double check new race is updated\")\n",
    "except Exception as e:\n",
    "    logging.log(logging.WARN, f\"Internal DB Error: {e}\")\n"
   ]
  },
  {
   "cell_type": "markdown",
   "metadata": {},
   "source": [
    "Grab all updated driver bets cases"
   ]
  },
  {
   "cell_type": "code",
   "execution_count": 24,
   "metadata": {},
   "outputs": [
    {
     "name": "stdout",
     "output_type": "stream",
     "text": [
      "   betid  iswon\n",
      "0     88   True\n",
      "1     87   True\n",
      "2     84   True\n",
      "3     83   True\n",
      "4     82  False\n",
      "5     44  False\n"
     ]
    }
   ],
   "source": [
    "logging.log(logging.INFO, f\"Addding latest race{race_data['RaceName']} {race_data['Date'].split('-')[0]} data to table\")\n",
    "df1=None\n",
    "try: # CLOSE EXISTING BETS\n",
    "    df1 = pd.read_sql(f\"\"\"\n",
    "          SELECT Bet.betId, (CASE WHEN isOver THEN temp_positions.place<=Bet.place ELSE temp_positions.place>=Bet.place END) As isWon \n",
    "          FROM temp_positions\n",
    "          INNER JOIN Driver\n",
    "            ON Driver.name=temp_positions.name\n",
    "          INNER JOIN Informs\n",
    "            ON Informs.driverId=Driver.driverId\n",
    "            AND Informs.raceId={raceId}\n",
    "          INNER JOIN Bet\n",
    "            ON Informs.BetId=Bet.BetId\n",
    "          WHERE Bet.teamName IS NULL\n",
    "          \"\"\", c)\n",
    "except sqlalchemy.exc.IntegrityError:\n",
    "    logging.log(logging.INFO, \"Repeated keys, double check new race is updated\")\n",
    "except Exception as e:\n",
    "    logging.log(logging.WARN, f\"Internal DB Error: {e}\")\n",
    "print(df1)\n"
   ]
  },
  {
   "cell_type": "markdown",
   "metadata": {},
   "source": [
    "grab all team bets cases"
   ]
  },
  {
   "cell_type": "code",
   "execution_count": 20,
   "metadata": {},
   "outputs": [],
   "source": [
    "logging.log(logging.INFO, f\"Addding latest race{race_data['RaceName']} {race_data['Date'].split('-')[0]} data to table\")\n",
    "df2=None\n",
    "try: # CLOSE EXISTING BETS\n",
    "    df2 = pd.read_sql(\"\"\"\n",
    "            SELECT Bet.betId As betId, (CASE WHEN isOver THEN T.rank<=Bet.place ELSE T.rank>=Bet.place END) As isWon \n",
    "            FROM (SELECT DrivesFor.teamName AS teamName, ROW_NUMBER() OVER(ORDER BY SUM(temp_positions.points) DESC) AS rank\n",
    "                 FROM temp_positions\n",
    "                 INNER JOIN Driver\n",
    "                     ON Driver.name=temp_positions.name\n",
    "                 INNER JOIN DrivesFor\n",
    "                     ON Driver.driverId=DrivesFor.driverId\n",
    "                 GROUP BY DrivesFor.teamName) T\n",
    "            INNER JOIN Informs\n",
    "                ON T.teamName=Informs.teamName\n",
    "            INNER JOIN Bet\n",
    "                ON Informs.BetId=Bet.BetId\n",
    "            WHERE Bet.driverId IS NULL\n",
    "          \"\"\", c)\n",
    "except sqlalchemy.exc.IntegrityError:\n",
    "    logging.log(logging.INFO, \"Repeated keys, double check new race is updated\")\n",
    "except Exception as e:\n",
    "    logging.log(logging.WARN, f\"Internal DB Error: {e}\")\n"
   ]
  },
  {
   "cell_type": "markdown",
   "metadata": {},
   "source": [
    "update all cases and close all open bets in informs"
   ]
  },
  {
   "cell_type": "code",
   "execution_count": 25,
   "metadata": {},
   "outputs": [
    {
     "data": {
      "text/plain": [
       "<sqlalchemy.engine.cursor.LegacyCursorResult at 0x164d5d2a0>"
      ]
     },
     "execution_count": 25,
     "metadata": {},
     "output_type": "execute_result"
    }
   ],
   "source": [
    "# UPDATE\n",
    "df3=pd.concat([df1, df2])\n",
    "df3.to_sql('temp_results', con=c, if_exists='replace')\n",
    "\n",
    "c.execute(\"\"\"\n",
    "          UPDATE Bet\n",
    "          SET isWon = temp_results.isWon,\n",
    "              completed=True\n",
    "          FROM \n",
    "            temp_results\n",
    "          WHERE\n",
    "            Bet.betId=temp_results.betId\n",
    "          \"\"\")"
   ]
  },
  {
   "cell_type": "markdown",
   "metadata": {},
   "source": [
    "Close all bets that might've been missed"
   ]
  },
  {
   "cell_type": "code",
   "execution_count": 26,
   "metadata": {},
   "outputs": [
    {
     "ename": "OperationalError",
     "evalue": "(psycopg2.OperationalError) server closed the connection unexpectedly\n\tThis probably means the server terminated abnormally\n\tbefore or while processing the request.\nserver closed the connection unexpectedly\n\tThis probably means the server terminated abnormally\n\tbefore or while processing the request.\nserver closed the connection unexpectedly\n\tThis probably means the server terminated abnormally\n\tbefore or while processing the request.\n\n[SQL: \n          UPDATE Bet\n          SET completed=True\n          WHERE Bet.raceId=3\n          ]\n(Background on this error at: https://sqlalche.me/e/14/e3q8)",
     "output_type": "error",
     "traceback": [
      "\u001b[0;31m---------------------------------------------------------------------------\u001b[0m",
      "\u001b[0;31mOperationalError\u001b[0m                          Traceback (most recent call last)",
      "File \u001b[0;32m~/opt/anaconda3/envs/F1Proj/lib/python3.10/site-packages/sqlalchemy/engine/base.py:1819\u001b[0m, in \u001b[0;36mConnection._execute_context\u001b[0;34m(self, dialect, constructor, statement, parameters, execution_options, *args, **kw)\u001b[0m\n\u001b[1;32m   <a href='file:///Users/kevinjiang/opt/anaconda3/envs/F1Proj/lib/python3.10/site-packages/sqlalchemy/engine/base.py?line=1817'>1818</a>\u001b[0m     \u001b[39mif\u001b[39;00m \u001b[39mnot\u001b[39;00m evt_handled:\n\u001b[0;32m-> <a href='file:///Users/kevinjiang/opt/anaconda3/envs/F1Proj/lib/python3.10/site-packages/sqlalchemy/engine/base.py?line=1818'>1819</a>\u001b[0m         \u001b[39mself\u001b[39;49m\u001b[39m.\u001b[39;49mdialect\u001b[39m.\u001b[39;49mdo_execute(\n\u001b[1;32m   <a href='file:///Users/kevinjiang/opt/anaconda3/envs/F1Proj/lib/python3.10/site-packages/sqlalchemy/engine/base.py?line=1819'>1820</a>\u001b[0m             cursor, statement, parameters, context\n\u001b[1;32m   <a href='file:///Users/kevinjiang/opt/anaconda3/envs/F1Proj/lib/python3.10/site-packages/sqlalchemy/engine/base.py?line=1820'>1821</a>\u001b[0m         )\n\u001b[1;32m   <a href='file:///Users/kevinjiang/opt/anaconda3/envs/F1Proj/lib/python3.10/site-packages/sqlalchemy/engine/base.py?line=1822'>1823</a>\u001b[0m \u001b[39mif\u001b[39;00m \u001b[39mself\u001b[39m\u001b[39m.\u001b[39m_has_events \u001b[39mor\u001b[39;00m \u001b[39mself\u001b[39m\u001b[39m.\u001b[39mengine\u001b[39m.\u001b[39m_has_events:\n",
      "File \u001b[0;32m~/opt/anaconda3/envs/F1Proj/lib/python3.10/site-packages/sqlalchemy/engine/default.py:732\u001b[0m, in \u001b[0;36mDefaultDialect.do_execute\u001b[0;34m(self, cursor, statement, parameters, context)\u001b[0m\n\u001b[1;32m    <a href='file:///Users/kevinjiang/opt/anaconda3/envs/F1Proj/lib/python3.10/site-packages/sqlalchemy/engine/default.py?line=730'>731</a>\u001b[0m \u001b[39mdef\u001b[39;00m \u001b[39mdo_execute\u001b[39m(\u001b[39mself\u001b[39m, cursor, statement, parameters, context\u001b[39m=\u001b[39m\u001b[39mNone\u001b[39;00m):\n\u001b[0;32m--> <a href='file:///Users/kevinjiang/opt/anaconda3/envs/F1Proj/lib/python3.10/site-packages/sqlalchemy/engine/default.py?line=731'>732</a>\u001b[0m     cursor\u001b[39m.\u001b[39;49mexecute(statement, parameters)\n",
      "\u001b[0;31mOperationalError\u001b[0m: server closed the connection unexpectedly\n\tThis probably means the server terminated abnormally\n\tbefore or while processing the request.\nserver closed the connection unexpectedly\n\tThis probably means the server terminated abnormally\n\tbefore or while processing the request.\nserver closed the connection unexpectedly\n\tThis probably means the server terminated abnormally\n\tbefore or while processing the request.\n",
      "\nThe above exception was the direct cause of the following exception:\n",
      "\u001b[0;31mOperationalError\u001b[0m                          Traceback (most recent call last)",
      "\u001b[1;32m/Users/kevinjiang/repo/F1Proj/update.ipynb Cell 13'\u001b[0m in \u001b[0;36m<cell line: 1>\u001b[0;34m()\u001b[0m\n\u001b[0;32m----> <a href='vscode-notebook-cell:/Users/kevinjiang/repo/F1Proj/update.ipynb#ch0000012?line=0'>1</a>\u001b[0m c\u001b[39m.\u001b[39;49mexecute(\u001b[39mf\u001b[39;49m\u001b[39m\"\"\"\u001b[39;49m\n\u001b[1;32m      <a href='vscode-notebook-cell:/Users/kevinjiang/repo/F1Proj/update.ipynb#ch0000012?line=1'>2</a>\u001b[0m \u001b[39m          UPDATE Bet\u001b[39;49m\n\u001b[1;32m      <a href='vscode-notebook-cell:/Users/kevinjiang/repo/F1Proj/update.ipynb#ch0000012?line=2'>3</a>\u001b[0m \u001b[39m          SET completed=True\u001b[39;49m\n\u001b[1;32m      <a href='vscode-notebook-cell:/Users/kevinjiang/repo/F1Proj/update.ipynb#ch0000012?line=3'>4</a>\u001b[0m \u001b[39m          WHERE Bet.raceId=\u001b[39;49m\u001b[39m{\u001b[39;49;00mraceId\u001b[39m}\u001b[39;49;00m\n\u001b[1;32m      <a href='vscode-notebook-cell:/Users/kevinjiang/repo/F1Proj/update.ipynb#ch0000012?line=4'>5</a>\u001b[0m \u001b[39m          \u001b[39;49m\u001b[39m\"\"\"\u001b[39;49m)\n",
      "File \u001b[0;32m~/opt/anaconda3/envs/F1Proj/lib/python3.10/site-packages/sqlalchemy/engine/base.py:1291\u001b[0m, in \u001b[0;36mConnection.execute\u001b[0;34m(self, statement, *multiparams, **params)\u001b[0m\n\u001b[1;32m   <a href='file:///Users/kevinjiang/opt/anaconda3/envs/F1Proj/lib/python3.10/site-packages/sqlalchemy/engine/base.py?line=1281'>1282</a>\u001b[0m \u001b[39mif\u001b[39;00m \u001b[39misinstance\u001b[39m(statement, util\u001b[39m.\u001b[39mstring_types):\n\u001b[1;32m   <a href='file:///Users/kevinjiang/opt/anaconda3/envs/F1Proj/lib/python3.10/site-packages/sqlalchemy/engine/base.py?line=1282'>1283</a>\u001b[0m     util\u001b[39m.\u001b[39mwarn_deprecated_20(\n\u001b[1;32m   <a href='file:///Users/kevinjiang/opt/anaconda3/envs/F1Proj/lib/python3.10/site-packages/sqlalchemy/engine/base.py?line=1283'>1284</a>\u001b[0m         \u001b[39m\"\u001b[39m\u001b[39mPassing a string to Connection.execute() is \u001b[39m\u001b[39m\"\u001b[39m\n\u001b[1;32m   <a href='file:///Users/kevinjiang/opt/anaconda3/envs/F1Proj/lib/python3.10/site-packages/sqlalchemy/engine/base.py?line=1284'>1285</a>\u001b[0m         \u001b[39m\"\u001b[39m\u001b[39mdeprecated and will be removed in version 2.0.  Use the \u001b[39m\u001b[39m\"\u001b[39m\n\u001b[0;32m   (...)\u001b[0m\n\u001b[1;32m   <a href='file:///Users/kevinjiang/opt/anaconda3/envs/F1Proj/lib/python3.10/site-packages/sqlalchemy/engine/base.py?line=1287'>1288</a>\u001b[0m         \u001b[39m\"\u001b[39m\u001b[39mdriver-level SQL string.\u001b[39m\u001b[39m\"\u001b[39m\n\u001b[1;32m   <a href='file:///Users/kevinjiang/opt/anaconda3/envs/F1Proj/lib/python3.10/site-packages/sqlalchemy/engine/base.py?line=1288'>1289</a>\u001b[0m     )\n\u001b[0;32m-> <a href='file:///Users/kevinjiang/opt/anaconda3/envs/F1Proj/lib/python3.10/site-packages/sqlalchemy/engine/base.py?line=1290'>1291</a>\u001b[0m     \u001b[39mreturn\u001b[39;00m \u001b[39mself\u001b[39;49m\u001b[39m.\u001b[39;49m_exec_driver_sql(\n\u001b[1;32m   <a href='file:///Users/kevinjiang/opt/anaconda3/envs/F1Proj/lib/python3.10/site-packages/sqlalchemy/engine/base.py?line=1291'>1292</a>\u001b[0m         statement,\n\u001b[1;32m   <a href='file:///Users/kevinjiang/opt/anaconda3/envs/F1Proj/lib/python3.10/site-packages/sqlalchemy/engine/base.py?line=1292'>1293</a>\u001b[0m         multiparams,\n\u001b[1;32m   <a href='file:///Users/kevinjiang/opt/anaconda3/envs/F1Proj/lib/python3.10/site-packages/sqlalchemy/engine/base.py?line=1293'>1294</a>\u001b[0m         params,\n\u001b[1;32m   <a href='file:///Users/kevinjiang/opt/anaconda3/envs/F1Proj/lib/python3.10/site-packages/sqlalchemy/engine/base.py?line=1294'>1295</a>\u001b[0m         _EMPTY_EXECUTION_OPTS,\n\u001b[1;32m   <a href='file:///Users/kevinjiang/opt/anaconda3/envs/F1Proj/lib/python3.10/site-packages/sqlalchemy/engine/base.py?line=1295'>1296</a>\u001b[0m         future\u001b[39m=\u001b[39;49m\u001b[39mFalse\u001b[39;49;00m,\n\u001b[1;32m   <a href='file:///Users/kevinjiang/opt/anaconda3/envs/F1Proj/lib/python3.10/site-packages/sqlalchemy/engine/base.py?line=1296'>1297</a>\u001b[0m     )\n\u001b[1;32m   <a href='file:///Users/kevinjiang/opt/anaconda3/envs/F1Proj/lib/python3.10/site-packages/sqlalchemy/engine/base.py?line=1298'>1299</a>\u001b[0m \u001b[39mtry\u001b[39;00m:\n\u001b[1;32m   <a href='file:///Users/kevinjiang/opt/anaconda3/envs/F1Proj/lib/python3.10/site-packages/sqlalchemy/engine/base.py?line=1299'>1300</a>\u001b[0m     meth \u001b[39m=\u001b[39m statement\u001b[39m.\u001b[39m_execute_on_connection\n",
      "File \u001b[0;32m~/opt/anaconda3/envs/F1Proj/lib/python3.10/site-packages/sqlalchemy/engine/base.py:1595\u001b[0m, in \u001b[0;36mConnection._exec_driver_sql\u001b[0;34m(self, statement, multiparams, params, execution_options, future)\u001b[0m\n\u001b[1;32m   <a href='file:///Users/kevinjiang/opt/anaconda3/envs/F1Proj/lib/python3.10/site-packages/sqlalchemy/engine/base.py?line=1584'>1585</a>\u001b[0m         (\n\u001b[1;32m   <a href='file:///Users/kevinjiang/opt/anaconda3/envs/F1Proj/lib/python3.10/site-packages/sqlalchemy/engine/base.py?line=1585'>1586</a>\u001b[0m             statement,\n\u001b[1;32m   <a href='file:///Users/kevinjiang/opt/anaconda3/envs/F1Proj/lib/python3.10/site-packages/sqlalchemy/engine/base.py?line=1586'>1587</a>\u001b[0m             distilled_params,\n\u001b[0;32m   (...)\u001b[0m\n\u001b[1;32m   <a href='file:///Users/kevinjiang/opt/anaconda3/envs/F1Proj/lib/python3.10/site-packages/sqlalchemy/engine/base.py?line=1590'>1591</a>\u001b[0m             statement, distilled_parameters, execution_options\n\u001b[1;32m   <a href='file:///Users/kevinjiang/opt/anaconda3/envs/F1Proj/lib/python3.10/site-packages/sqlalchemy/engine/base.py?line=1591'>1592</a>\u001b[0m         )\n\u001b[1;32m   <a href='file:///Users/kevinjiang/opt/anaconda3/envs/F1Proj/lib/python3.10/site-packages/sqlalchemy/engine/base.py?line=1593'>1594</a>\u001b[0m dialect \u001b[39m=\u001b[39m \u001b[39mself\u001b[39m\u001b[39m.\u001b[39mdialect\n\u001b[0;32m-> <a href='file:///Users/kevinjiang/opt/anaconda3/envs/F1Proj/lib/python3.10/site-packages/sqlalchemy/engine/base.py?line=1594'>1595</a>\u001b[0m ret \u001b[39m=\u001b[39m \u001b[39mself\u001b[39;49m\u001b[39m.\u001b[39;49m_execute_context(\n\u001b[1;32m   <a href='file:///Users/kevinjiang/opt/anaconda3/envs/F1Proj/lib/python3.10/site-packages/sqlalchemy/engine/base.py?line=1595'>1596</a>\u001b[0m     dialect,\n\u001b[1;32m   <a href='file:///Users/kevinjiang/opt/anaconda3/envs/F1Proj/lib/python3.10/site-packages/sqlalchemy/engine/base.py?line=1596'>1597</a>\u001b[0m     dialect\u001b[39m.\u001b[39;49mexecution_ctx_cls\u001b[39m.\u001b[39;49m_init_statement,\n\u001b[1;32m   <a href='file:///Users/kevinjiang/opt/anaconda3/envs/F1Proj/lib/python3.10/site-packages/sqlalchemy/engine/base.py?line=1597'>1598</a>\u001b[0m     statement,\n\u001b[1;32m   <a href='file:///Users/kevinjiang/opt/anaconda3/envs/F1Proj/lib/python3.10/site-packages/sqlalchemy/engine/base.py?line=1598'>1599</a>\u001b[0m     distilled_parameters,\n\u001b[1;32m   <a href='file:///Users/kevinjiang/opt/anaconda3/envs/F1Proj/lib/python3.10/site-packages/sqlalchemy/engine/base.py?line=1599'>1600</a>\u001b[0m     execution_options,\n\u001b[1;32m   <a href='file:///Users/kevinjiang/opt/anaconda3/envs/F1Proj/lib/python3.10/site-packages/sqlalchemy/engine/base.py?line=1600'>1601</a>\u001b[0m     statement,\n\u001b[1;32m   <a href='file:///Users/kevinjiang/opt/anaconda3/envs/F1Proj/lib/python3.10/site-packages/sqlalchemy/engine/base.py?line=1601'>1602</a>\u001b[0m     distilled_parameters,\n\u001b[1;32m   <a href='file:///Users/kevinjiang/opt/anaconda3/envs/F1Proj/lib/python3.10/site-packages/sqlalchemy/engine/base.py?line=1602'>1603</a>\u001b[0m )\n\u001b[1;32m   <a href='file:///Users/kevinjiang/opt/anaconda3/envs/F1Proj/lib/python3.10/site-packages/sqlalchemy/engine/base.py?line=1604'>1605</a>\u001b[0m \u001b[39mif\u001b[39;00m \u001b[39mnot\u001b[39;00m future:\n\u001b[1;32m   <a href='file:///Users/kevinjiang/opt/anaconda3/envs/F1Proj/lib/python3.10/site-packages/sqlalchemy/engine/base.py?line=1605'>1606</a>\u001b[0m     \u001b[39mif\u001b[39;00m \u001b[39mself\u001b[39m\u001b[39m.\u001b[39m_has_events \u001b[39mor\u001b[39;00m \u001b[39mself\u001b[39m\u001b[39m.\u001b[39mengine\u001b[39m.\u001b[39m_has_events:\n",
      "File \u001b[0;32m~/opt/anaconda3/envs/F1Proj/lib/python3.10/site-packages/sqlalchemy/engine/base.py:1862\u001b[0m, in \u001b[0;36mConnection._execute_context\u001b[0;34m(self, dialect, constructor, statement, parameters, execution_options, *args, **kw)\u001b[0m\n\u001b[1;32m   <a href='file:///Users/kevinjiang/opt/anaconda3/envs/F1Proj/lib/python3.10/site-packages/sqlalchemy/engine/base.py?line=1858'>1859</a>\u001b[0m             branched\u001b[39m.\u001b[39mclose()\n\u001b[1;32m   <a href='file:///Users/kevinjiang/opt/anaconda3/envs/F1Proj/lib/python3.10/site-packages/sqlalchemy/engine/base.py?line=1860'>1861</a>\u001b[0m \u001b[39mexcept\u001b[39;00m \u001b[39mBaseException\u001b[39;00m \u001b[39mas\u001b[39;00m e:\n\u001b[0;32m-> <a href='file:///Users/kevinjiang/opt/anaconda3/envs/F1Proj/lib/python3.10/site-packages/sqlalchemy/engine/base.py?line=1861'>1862</a>\u001b[0m     \u001b[39mself\u001b[39;49m\u001b[39m.\u001b[39;49m_handle_dbapi_exception(\n\u001b[1;32m   <a href='file:///Users/kevinjiang/opt/anaconda3/envs/F1Proj/lib/python3.10/site-packages/sqlalchemy/engine/base.py?line=1862'>1863</a>\u001b[0m         e, statement, parameters, cursor, context\n\u001b[1;32m   <a href='file:///Users/kevinjiang/opt/anaconda3/envs/F1Proj/lib/python3.10/site-packages/sqlalchemy/engine/base.py?line=1863'>1864</a>\u001b[0m     )\n\u001b[1;32m   <a href='file:///Users/kevinjiang/opt/anaconda3/envs/F1Proj/lib/python3.10/site-packages/sqlalchemy/engine/base.py?line=1865'>1866</a>\u001b[0m \u001b[39mreturn\u001b[39;00m result\n",
      "File \u001b[0;32m~/opt/anaconda3/envs/F1Proj/lib/python3.10/site-packages/sqlalchemy/engine/base.py:2043\u001b[0m, in \u001b[0;36mConnection._handle_dbapi_exception\u001b[0;34m(self, e, statement, parameters, cursor, context)\u001b[0m\n\u001b[1;32m   <a href='file:///Users/kevinjiang/opt/anaconda3/envs/F1Proj/lib/python3.10/site-packages/sqlalchemy/engine/base.py?line=2040'>2041</a>\u001b[0m     util\u001b[39m.\u001b[39mraise_(newraise, with_traceback\u001b[39m=\u001b[39mexc_info[\u001b[39m2\u001b[39m], from_\u001b[39m=\u001b[39me)\n\u001b[1;32m   <a href='file:///Users/kevinjiang/opt/anaconda3/envs/F1Proj/lib/python3.10/site-packages/sqlalchemy/engine/base.py?line=2041'>2042</a>\u001b[0m \u001b[39melif\u001b[39;00m should_wrap:\n\u001b[0;32m-> <a href='file:///Users/kevinjiang/opt/anaconda3/envs/F1Proj/lib/python3.10/site-packages/sqlalchemy/engine/base.py?line=2042'>2043</a>\u001b[0m     util\u001b[39m.\u001b[39;49mraise_(\n\u001b[1;32m   <a href='file:///Users/kevinjiang/opt/anaconda3/envs/F1Proj/lib/python3.10/site-packages/sqlalchemy/engine/base.py?line=2043'>2044</a>\u001b[0m         sqlalchemy_exception, with_traceback\u001b[39m=\u001b[39;49mexc_info[\u001b[39m2\u001b[39;49m], from_\u001b[39m=\u001b[39;49me\n\u001b[1;32m   <a href='file:///Users/kevinjiang/opt/anaconda3/envs/F1Proj/lib/python3.10/site-packages/sqlalchemy/engine/base.py?line=2044'>2045</a>\u001b[0m     )\n\u001b[1;32m   <a href='file:///Users/kevinjiang/opt/anaconda3/envs/F1Proj/lib/python3.10/site-packages/sqlalchemy/engine/base.py?line=2045'>2046</a>\u001b[0m \u001b[39melse\u001b[39;00m:\n\u001b[1;32m   <a href='file:///Users/kevinjiang/opt/anaconda3/envs/F1Proj/lib/python3.10/site-packages/sqlalchemy/engine/base.py?line=2046'>2047</a>\u001b[0m     util\u001b[39m.\u001b[39mraise_(exc_info[\u001b[39m1\u001b[39m], with_traceback\u001b[39m=\u001b[39mexc_info[\u001b[39m2\u001b[39m])\n",
      "File \u001b[0;32m~/opt/anaconda3/envs/F1Proj/lib/python3.10/site-packages/sqlalchemy/util/compat.py:207\u001b[0m, in \u001b[0;36mraise_\u001b[0;34m(***failed resolving arguments***)\u001b[0m\n\u001b[1;32m    <a href='file:///Users/kevinjiang/opt/anaconda3/envs/F1Proj/lib/python3.10/site-packages/sqlalchemy/util/compat.py?line=203'>204</a>\u001b[0m     exception\u001b[39m.\u001b[39m__cause__ \u001b[39m=\u001b[39m replace_context\n\u001b[1;32m    <a href='file:///Users/kevinjiang/opt/anaconda3/envs/F1Proj/lib/python3.10/site-packages/sqlalchemy/util/compat.py?line=205'>206</a>\u001b[0m \u001b[39mtry\u001b[39;00m:\n\u001b[0;32m--> <a href='file:///Users/kevinjiang/opt/anaconda3/envs/F1Proj/lib/python3.10/site-packages/sqlalchemy/util/compat.py?line=206'>207</a>\u001b[0m     \u001b[39mraise\u001b[39;00m exception\n\u001b[1;32m    <a href='file:///Users/kevinjiang/opt/anaconda3/envs/F1Proj/lib/python3.10/site-packages/sqlalchemy/util/compat.py?line=207'>208</a>\u001b[0m \u001b[39mfinally\u001b[39;00m:\n\u001b[1;32m    <a href='file:///Users/kevinjiang/opt/anaconda3/envs/F1Proj/lib/python3.10/site-packages/sqlalchemy/util/compat.py?line=208'>209</a>\u001b[0m     \u001b[39m# credit to\u001b[39;00m\n\u001b[1;32m    <a href='file:///Users/kevinjiang/opt/anaconda3/envs/F1Proj/lib/python3.10/site-packages/sqlalchemy/util/compat.py?line=209'>210</a>\u001b[0m     \u001b[39m# https://cosmicpercolator.com/2016/01/13/exception-leaks-in-python-2-and-3/\u001b[39;00m\n\u001b[1;32m    <a href='file:///Users/kevinjiang/opt/anaconda3/envs/F1Proj/lib/python3.10/site-packages/sqlalchemy/util/compat.py?line=210'>211</a>\u001b[0m     \u001b[39m# as the __traceback__ object creates a cycle\u001b[39;00m\n\u001b[1;32m    <a href='file:///Users/kevinjiang/opt/anaconda3/envs/F1Proj/lib/python3.10/site-packages/sqlalchemy/util/compat.py?line=211'>212</a>\u001b[0m     \u001b[39mdel\u001b[39;00m exception, replace_context, from_, with_traceback\n",
      "File \u001b[0;32m~/opt/anaconda3/envs/F1Proj/lib/python3.10/site-packages/sqlalchemy/engine/base.py:1819\u001b[0m, in \u001b[0;36mConnection._execute_context\u001b[0;34m(self, dialect, constructor, statement, parameters, execution_options, *args, **kw)\u001b[0m\n\u001b[1;32m   <a href='file:///Users/kevinjiang/opt/anaconda3/envs/F1Proj/lib/python3.10/site-packages/sqlalchemy/engine/base.py?line=1816'>1817</a>\u001b[0m                 \u001b[39mbreak\u001b[39;00m\n\u001b[1;32m   <a href='file:///Users/kevinjiang/opt/anaconda3/envs/F1Proj/lib/python3.10/site-packages/sqlalchemy/engine/base.py?line=1817'>1818</a>\u001b[0m     \u001b[39mif\u001b[39;00m \u001b[39mnot\u001b[39;00m evt_handled:\n\u001b[0;32m-> <a href='file:///Users/kevinjiang/opt/anaconda3/envs/F1Proj/lib/python3.10/site-packages/sqlalchemy/engine/base.py?line=1818'>1819</a>\u001b[0m         \u001b[39mself\u001b[39;49m\u001b[39m.\u001b[39;49mdialect\u001b[39m.\u001b[39;49mdo_execute(\n\u001b[1;32m   <a href='file:///Users/kevinjiang/opt/anaconda3/envs/F1Proj/lib/python3.10/site-packages/sqlalchemy/engine/base.py?line=1819'>1820</a>\u001b[0m             cursor, statement, parameters, context\n\u001b[1;32m   <a href='file:///Users/kevinjiang/opt/anaconda3/envs/F1Proj/lib/python3.10/site-packages/sqlalchemy/engine/base.py?line=1820'>1821</a>\u001b[0m         )\n\u001b[1;32m   <a href='file:///Users/kevinjiang/opt/anaconda3/envs/F1Proj/lib/python3.10/site-packages/sqlalchemy/engine/base.py?line=1822'>1823</a>\u001b[0m \u001b[39mif\u001b[39;00m \u001b[39mself\u001b[39m\u001b[39m.\u001b[39m_has_events \u001b[39mor\u001b[39;00m \u001b[39mself\u001b[39m\u001b[39m.\u001b[39mengine\u001b[39m.\u001b[39m_has_events:\n\u001b[1;32m   <a href='file:///Users/kevinjiang/opt/anaconda3/envs/F1Proj/lib/python3.10/site-packages/sqlalchemy/engine/base.py?line=1823'>1824</a>\u001b[0m     \u001b[39mself\u001b[39m\u001b[39m.\u001b[39mdispatch\u001b[39m.\u001b[39mafter_cursor_execute(\n\u001b[1;32m   <a href='file:///Users/kevinjiang/opt/anaconda3/envs/F1Proj/lib/python3.10/site-packages/sqlalchemy/engine/base.py?line=1824'>1825</a>\u001b[0m         \u001b[39mself\u001b[39m,\n\u001b[1;32m   <a href='file:///Users/kevinjiang/opt/anaconda3/envs/F1Proj/lib/python3.10/site-packages/sqlalchemy/engine/base.py?line=1825'>1826</a>\u001b[0m         cursor,\n\u001b[0;32m   (...)\u001b[0m\n\u001b[1;32m   <a href='file:///Users/kevinjiang/opt/anaconda3/envs/F1Proj/lib/python3.10/site-packages/sqlalchemy/engine/base.py?line=1829'>1830</a>\u001b[0m         context\u001b[39m.\u001b[39mexecutemany,\n\u001b[1;32m   <a href='file:///Users/kevinjiang/opt/anaconda3/envs/F1Proj/lib/python3.10/site-packages/sqlalchemy/engine/base.py?line=1830'>1831</a>\u001b[0m     )\n",
      "File \u001b[0;32m~/opt/anaconda3/envs/F1Proj/lib/python3.10/site-packages/sqlalchemy/engine/default.py:732\u001b[0m, in \u001b[0;36mDefaultDialect.do_execute\u001b[0;34m(self, cursor, statement, parameters, context)\u001b[0m\n\u001b[1;32m    <a href='file:///Users/kevinjiang/opt/anaconda3/envs/F1Proj/lib/python3.10/site-packages/sqlalchemy/engine/default.py?line=730'>731</a>\u001b[0m \u001b[39mdef\u001b[39;00m \u001b[39mdo_execute\u001b[39m(\u001b[39mself\u001b[39m, cursor, statement, parameters, context\u001b[39m=\u001b[39m\u001b[39mNone\u001b[39;00m):\n\u001b[0;32m--> <a href='file:///Users/kevinjiang/opt/anaconda3/envs/F1Proj/lib/python3.10/site-packages/sqlalchemy/engine/default.py?line=731'>732</a>\u001b[0m     cursor\u001b[39m.\u001b[39;49mexecute(statement, parameters)\n",
      "\u001b[0;31mOperationalError\u001b[0m: (psycopg2.OperationalError) server closed the connection unexpectedly\n\tThis probably means the server terminated abnormally\n\tbefore or while processing the request.\nserver closed the connection unexpectedly\n\tThis probably means the server terminated abnormally\n\tbefore or while processing the request.\nserver closed the connection unexpectedly\n\tThis probably means the server terminated abnormally\n\tbefore or while processing the request.\n\n[SQL: \n          UPDATE Bet\n          SET completed=True\n          WHERE Bet.raceId=3\n          ]\n(Background on this error at: https://sqlalche.me/e/14/e3q8)"
     ]
    }
   ],
   "source": [
    "c.execute(f\"\"\"\n",
    "          UPDATE Bet\n",
    "          SET completed=True\n",
    "          WHERE Bet.raceId={raceId}\n",
    "          \"\"\")\n",
    "          \n"
   ]
  },
  {
   "cell_type": "code",
   "execution_count": null,
   "metadata": {},
   "outputs": [],
   "source": []
  }
 ],
 "metadata": {
  "interpreter": {
   "hash": "f5cb6dd328252e901618a172fb2a5f0229aa77fb00959d67938e8ad10853efa2"
  },
  "kernelspec": {
   "display_name": "Python 3.10.4 ('F1Proj')",
   "language": "python",
   "name": "python3"
  },
  "language_info": {
   "codemirror_mode": {
    "name": "ipython",
    "version": 3
   },
   "file_extension": ".py",
   "mimetype": "text/x-python",
   "name": "python",
   "nbconvert_exporter": "python",
   "pygments_lexer": "ipython3",
   "version": "3.10.4"
  },
  "orig_nbformat": 4
 },
 "nbformat": 4,
 "nbformat_minor": 2
}
